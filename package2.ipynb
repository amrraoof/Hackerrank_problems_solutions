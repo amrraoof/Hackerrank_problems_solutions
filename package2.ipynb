{
 "cells": [
  {
   "cell_type": "code",
   "execution_count": 1,
   "id": "1ee20839",
   "metadata": {},
   "outputs": [
    {
     "name": "stdout",
     "output_type": "stream",
     "text": [
      "12\n",
      "insert 0 5\n",
      "insert 1 10\n",
      "insert 0 6\n",
      "print\n",
      "[6, 5, 10]\n",
      "remove 6\n",
      "append 9\n",
      "append 1\n",
      "sort\n",
      "print\n",
      "[1, 5, 9, 10]\n",
      "pop\n",
      "reverse\n",
      "print\n",
      "[9, 5, 1]\n"
     ]
    }
   ],
   "source": [
    "#1\n",
    "# Problem name:Lists\n",
    "# in this problem we apply most of functions related to list\n",
    "if __name__ == '__main__':\n",
    "    lst = []\n",
    "    N = int(input())\n",
    "    \n",
    "    for i in range(N):\n",
    "        query = input().split()\n",
    "        if query[0] == \"insert\":\n",
    "            lst.insert(int(query[1]),int(query[2]))\n",
    "        elif query[0] == \"print\":\n",
    "            print(lst)\n",
    "        elif query[0] == \"remove\":\n",
    "            lst.remove(int(query[1]))\n",
    "        elif query[0] == \"append\":\n",
    "            lst.append(int(query[1]))\n",
    "        elif query[0] == \"sort\":\n",
    "            lst.sort()\n",
    "        elif query[0]== \"pop\":\n",
    "            lst.pop()\n",
    "        elif query[0] == \"reverse\":\n",
    "            lst.reverse()\n",
    "       \n",
    "        "
   ]
  },
  {
   "cell_type": "code",
   "execution_count": 2,
   "id": "056f271e",
   "metadata": {},
   "outputs": [
    {
     "name": "stdout",
     "output_type": "stream",
     "text": [
      "2\n",
      "2\n",
      "6909455589863252355\n"
     ]
    }
   ],
   "source": [
    "# 2\n",
    "# Problem name : Tuple\n",
    "\n",
    "if __name__ == '__main__':\n",
    "   \n",
    "    n = int(input())\n",
    "    integer_list = map(int, input().split())\n",
    "    t = tuple(integer_list)\n",
    "    print(hash(t))\n"
   ]
  },
  {
   "cell_type": "code",
   "execution_count": 3,
   "id": "a3258557",
   "metadata": {},
   "outputs": [
    {
     "name": "stdout",
     "output_type": "stream",
     "text": [
      "142\n",
      "12\n",
      "11\n",
      "10\n",
      "(11, 10)\n"
     ]
    }
   ],
   "source": [
    "#3\n",
    "# Problem name: Mod Divmod\n",
    "a = int(input())\n",
    "b = int(input())\n",
    "print(divmod(a,b)[0])\n",
    "print(divmod(a,b)[1])\n",
    "print(divmod(a,b))"
   ]
  },
  {
   "cell_type": "code",
   "execution_count": 4,
   "id": "38e47dd8",
   "metadata": {},
   "outputs": [
    {
     "name": "stdout",
     "output_type": "stream",
     "text": [
      "5\n",
      "6\n",
      "7\n",
      "15625\n",
      "1\n"
     ]
    }
   ],
   "source": [
    "#4\n",
    "# Problem name: Power - Mod Power\n",
    "a,b,m = int(input()),int(input()),int(input())\n",
    "print(pow(a,b))\n",
    "print(pow(a,b,m)) # find a power b and then find it's modulas"
   ]
  },
  {
   "cell_type": "code",
   "execution_count": 5,
   "id": "c9b2f221",
   "metadata": {},
   "outputs": [
    {
     "name": "stdout",
     "output_type": "stream",
     "text": [
      "2\n",
      "5\n",
      "4\n",
      "7\n",
      "16416\n"
     ]
    }
   ],
   "source": [
    "#5\n",
    "# Problem name : Integers Come In All Sizes\n",
    "a,b,c,d = int(input()) , int(input()) , int(input()) , int(input())\n",
    "print(a**b + c**d)"
   ]
  },
  {
   "cell_type": "code",
   "execution_count": 6,
   "id": "99d48287",
   "metadata": {},
   "outputs": [
    {
     "name": "stdout",
     "output_type": "stream",
     "text": [
      "8\n",
      "1\n",
      "22\n",
      "333\n",
      "4444\n",
      "55555\n",
      "666666\n",
      "7777777\n"
     ]
    }
   ],
   "source": [
    "#6\n",
    "#Problem name: Triangle Quest\n",
    "for i in range(1,int(input())):\n",
    "    print(10**i//9*i)"
   ]
  },
  {
   "cell_type": "code",
   "execution_count": 7,
   "id": "b10cf68f",
   "metadata": {},
   "outputs": [
    {
     "name": "stdout",
     "output_type": "stream",
     "text": [
      "8\n",
      "1\n",
      "22\n",
      "333\n",
      "4444\n",
      "55555\n",
      "666666\n",
      "7777777\n"
     ]
    }
   ],
   "source": [
    "#6 Another solution\n",
    "for i in range(1,int(input())):\n",
    "    print(i * (10 ** i - 1) // 9)\n"
   ]
  },
  {
   "cell_type": "code",
   "execution_count": 8,
   "id": "85931edf",
   "metadata": {},
   "outputs": [
    {
     "name": "stdout",
     "output_type": "stream",
     "text": [
      "www.hackerrank.com\n",
      "WWW.HACKERRANK.COM\n"
     ]
    }
   ],
   "source": [
    "#7 \n",
    "# Problem name : sWAP cASE\n",
    "def swap_case(s):\n",
    "    return s.swapcase()\n",
    "\n",
    "if __name__ == '__main__':\n",
    "    s = input()\n",
    "    result = swap_case(s)\n",
    "    print(result)"
   ]
  },
  {
   "cell_type": "code",
   "execution_count": 9,
   "id": "54315f2e",
   "metadata": {},
   "outputs": [
    {
     "name": "stdout",
     "output_type": "stream",
     "text": [
      "This is me\n",
      "This-is-me\n"
     ]
    }
   ],
   "source": [
    "# 8\n",
    "# Problem name : String Split and Join\n",
    "def split_and_join(line):\n",
    "    line = line.split()\n",
    "    return \"-\".join(line)\n",
    "\n",
    "if __name__ == '__main__':\n",
    "    line = input()\n",
    "    result = split_and_join(line)\n",
    "    print(result)"
   ]
  },
  {
   "cell_type": "code",
   "execution_count": 10,
   "id": "874bfe66",
   "metadata": {},
   "outputs": [
    {
     "name": "stdout",
     "output_type": "stream",
     "text": [
      "Amr\n",
      "Abdelraoof\n",
      "Hello Amr Abdelraoof! You just delved into python.\n"
     ]
    }
   ],
   "source": [
    "# 9 \n",
    "# Problem name : What's Your Name?\n",
    "def print_full_name(first, last):\n",
    "    print(f\"Hello {first} {last}! You just delved into python.\")\n",
    "\n",
    "if __name__ == '__main__':\n",
    "    first_name = input()\n",
    "    last_name = input()\n",
    "    print_full_name(first_name, last_name)"
   ]
  },
  {
   "cell_type": "code",
   "execution_count": 11,
   "id": "93c070e4",
   "metadata": {},
   "outputs": [
    {
     "name": "stdout",
     "output_type": "stream",
     "text": [
      "Abracadabra\n",
      "5 k\n",
      "Abrackdabra\n"
     ]
    }
   ],
   "source": [
    "# 10 \n",
    "# Problem name : Mutations\n",
    "def mutate_string(string, position, character):\n",
    "    string_list = list(string)\n",
    "    string_list[position] = character\n",
    "    string = \"\".join(string_list)\n",
    "    return string\n",
    "\n",
    "if __name__ == '__main__':\n",
    "    s = input()\n",
    "    i, c = input().split()\n",
    "    s_new = mutate_string(s, int(i), c)\n",
    "    print(s_new)"
   ]
  }
 ],
 "metadata": {
  "kernelspec": {
   "display_name": "Python 3 (ipykernel)",
   "language": "python",
   "name": "python3"
  },
  "language_info": {
   "codemirror_mode": {
    "name": "ipython",
    "version": 3
   },
   "file_extension": ".py",
   "mimetype": "text/x-python",
   "name": "python",
   "nbconvert_exporter": "python",
   "pygments_lexer": "ipython3",
   "version": "3.9.13"
  }
 },
 "nbformat": 4,
 "nbformat_minor": 5
}
