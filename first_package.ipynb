{
 "cells": [
  {
   "cell_type": "code",
   "execution_count": 2,
   "id": "519de2e9",
   "metadata": {},
   "outputs": [
    {
     "name": "stdout",
     "output_type": "stream",
     "text": [
      "22\n",
      "Not Weird\n"
     ]
    }
   ],
   "source": [
    "#1-  problem name python if-else \n",
    "\n",
    "if __name__ == '__main__':\n",
    "    n = int(input().strip())\n",
    "    if n%2 !=0:    # means n is odd \n",
    "        print(\"Weird\")\n",
    "    \n",
    "    elif n%2 ==0: # means n is even \n",
    "        \n",
    "        if 2<=n and n<=5:  # means in range 2, 5 with taking 2 and 5 in consideration \n",
    "            print(\"Not Weird\")\n",
    "        \n",
    "        elif n>=6 and n<=20: # means in range 6 ,20\n",
    "            print(\"Weird\")\n",
    "        \n",
    "        elif n > 20: # n is graeter than 20 \n",
    "            print(\"Not Weird\")"
   ]
  },
  {
   "cell_type": "code",
   "execution_count": 4,
   "id": "6e35454c",
   "metadata": {},
   "outputs": [
    {
     "name": "stdout",
     "output_type": "stream",
     "text": [
      "2\n",
      "3\n",
      "5\n",
      "-1\n",
      "6\n"
     ]
    }
   ],
   "source": [
    "#2- problem name : python arthimatic operators  \n",
    "\n",
    "if __name__ == '__main__':\n",
    "    a = int(input())\n",
    "    b = int(input())\n",
    "    print(a+b)\n",
    "    print(a-b)\n",
    "    print(a*b)"
   ]
  },
  {
   "cell_type": "code",
   "execution_count": 7,
   "id": "b7e56cda",
   "metadata": {},
   "outputs": [
    {
     "name": "stdout",
     "output_type": "stream",
     "text": [
      "2 \n",
      "3\n",
      "0\n",
      "0.6666666666666666\n"
     ]
    }
   ],
   "source": [
    "#3- Problem name: Python devision \n",
    "\n",
    "\n",
    "if __name__ == '__main__':\n",
    "    a = int(input().strip())\n",
    "    b = int(input().strip())\n",
    "    print(a//b) # This means floor devision \n",
    "    print(a/b)"
   ]
  },
  {
   "cell_type": "code",
   "execution_count": 8,
   "id": "9add76db",
   "metadata": {},
   "outputs": [
    {
     "name": "stdout",
     "output_type": "stream",
     "text": [
      "7\n",
      "0\n",
      "1\n",
      "4\n",
      "9\n",
      "16\n",
      "25\n",
      "36\n"
     ]
    }
   ],
   "source": [
    "#4- problem name:  Loops\n",
    "if __name__ == '__main__':\n",
    "    n = int(input().strip())\n",
    "    randomList = list(range(n)) # means make a list from the numbers in range 0 to n\n",
    "    for i in randomList:\n",
    "        print(i**2) # print the element in the list squared  \n",
    "    "
   ]
  },
  {
   "cell_type": "code",
   "execution_count": 10,
   "id": "c15bd9a9",
   "metadata": {},
   "outputs": [
    {
     "data": {
      "text/plain": [
       "True"
      ]
     },
     "execution_count": 10,
     "metadata": {},
     "output_type": "execute_result"
    }
   ],
   "source": [
    "#5- problem name: write a function\n",
    "# it's suppose to write a function which discovers if the entred year is leap or not \n",
    "# leap year means the year with 365 days\n",
    "\n",
    "def is_leap(year):\n",
    "    leap = False\n",
    "    import datetime\n",
    "    year1 = datetime.datetime(year,1,1)\n",
    "    year2 = datetime.datetime(year,12,31)\n",
    "    \n",
    "    \n",
    "    if (year2-year1).days ==365:\n",
    "        return True\n",
    "    else:\n",
    "    \n",
    "        return leap # which means False\n",
    "is_leap(2016)\n"
   ]
  },
  {
   "cell_type": "code",
   "execution_count": 1,
   "id": "3e824b53",
   "metadata": {},
   "outputs": [
    {
     "name": "stdout",
     "output_type": "stream",
     "text": [
      "5\n",
      "12345\n"
     ]
    }
   ],
   "source": [
    "# 6- Problem name: Print Function \n",
    "if __name__ == '__main__':\n",
    "    n = int(input())\n",
    "    x = list(range(1,n+1))\n",
    "    x1 = []\n",
    "    for i in x:\n",
    "        x1.append(str(i))\n",
    "    print(\"\".join(x1))"
   ]
  },
  {
   "cell_type": "code",
   "execution_count": 2,
   "id": "6e06aa0e",
   "metadata": {},
   "outputs": [
    {
     "name": "stdout",
     "output_type": "stream",
     "text": [
      "5\n",
      "12345\n"
     ]
    }
   ],
   "source": [
    "# 6- Problem name: Print Function\n",
    "n= int(input().strip())\n",
    "lst = list(map(str,range(1,n+1)))\n",
    "print(\"\".join(lst))"
   ]
  },
  {
   "cell_type": "code",
   "execution_count": 12,
   "id": "3e1d5215",
   "metadata": {},
   "outputs": [
    {
     "name": "stdout",
     "output_type": "stream",
     "text": [
      "2\n",
      "3\n",
      "4\n",
      "5\n",
      "[[0, 0, 0], [0, 0, 1], [0, 0, 2], [0, 0, 3], [0, 0, 4], [0, 1, 0], [0, 1, 1], [0, 1, 2], [0, 1, 3], [0, 2, 0], [0, 2, 1], [0, 2, 2], [0, 2, 4], [0, 3, 0], [0, 3, 1], [0, 3, 3], [0, 3, 4], [1, 0, 0], [1, 0, 1], [1, 0, 2], [1, 0, 3], [1, 1, 0], [1, 1, 1], [1, 1, 2], [1, 1, 4], [1, 2, 0], [1, 2, 1], [1, 2, 3], [1, 2, 4], [1, 3, 0], [1, 3, 2], [1, 3, 3], [1, 3, 4], [2, 0, 0], [2, 0, 1], [2, 0, 2], [2, 0, 4], [2, 1, 0], [2, 1, 1], [2, 1, 3], [2, 1, 4], [2, 2, 0], [2, 2, 2], [2, 2, 3], [2, 2, 4], [2, 3, 1], [2, 3, 2], [2, 3, 3], [2, 3, 4]]\n"
     ]
    }
   ],
   "source": [
    "# 7- Problem name: list comperhension\n",
    "if __name__ == '__main__':\n",
    "    x = int(input())\n",
    "    y = int(input())\n",
    "    z = int(input())\n",
    "    n = int(input())\n",
    "    li = [[i,j,k]for i in range(x+1) for j in range(y+1) for k in range(z+1) if i+j+k !=n]\n",
    "    print(li)"
   ]
  },
  {
   "cell_type": "code",
   "execution_count": 16,
   "id": "efebe023",
   "metadata": {},
   "outputs": [
    {
     "name": "stdout",
     "output_type": "stream",
     "text": [
      "5\n",
      "14 12 7 9 13\n",
      "13\n"
     ]
    }
   ],
   "source": [
    "# 8- Problem name : Find the Runner-Up Score!\n",
    "if __name__ == '__main__':\n",
    "    arr = list(map(int, input().split()))# This means make int function to every input you recieve then append this element to the list \n",
    "    arr = set(arr)\n",
    "    arr = list(arr)\n",
    "    arr.sort()\n",
    "    x= int(len(arr))\n",
    "    print(arr[x-2])"
   ]
  },
  {
   "cell_type": "code",
   "execution_count": null,
   "id": "09110d42",
   "metadata": {},
   "outputs": [],
   "source": [
    "# 8- Problem name : Find the Runner-Up Score!\n",
    "grades = input(\"Please enter the grades \")\n",
    "grades_list = list(map(int,grades.split()))\n",
    "grades_list.sort()\n",
    "print(f\"The runner up is : {grades_list[grades_list.index(max(grades_list))-1]}\")"
   ]
  },
  {
   "cell_type": "code",
   "execution_count": 3,
   "id": "eec3f185",
   "metadata": {},
   "outputs": [
    {
     "name": "stdout",
     "output_type": "stream",
     "text": [
      "6\n",
      "Harry\n",
      "21\n",
      "Barry\n",
      "22\n",
      "Michael\n",
      "22\n",
      "Amr\n",
      "24\n",
      "Ali\n",
      "24\n",
      "Mohammed\n",
      "25\n",
      "Barry\n",
      "Michael\n"
     ]
    }
   ],
   "source": [
    "# 9- Problem name: Nested Lists\n",
    "# finding the sorted names with the second minimum degree \n",
    "if __name__ == '__main__':\n",
    "    overall_list = []\n",
    "    overall_dict = dict()\n",
    "    names_list = []\n",
    "    score_list = []\n",
    "    for _ in range(int(input())):\n",
    "        name = input()\n",
    "        score = float(input())\n",
    "        #d[name] = score\n",
    "        overall_list.append([name,score])\n",
    "        score_list.append(score)\n",
    "        overall_dict[name] = score\n",
    "    \n",
    "    score_list.sort(reverse = True)\n",
    "    slg = score_list[score_list.index(min(score_list))-1]\n",
    "    for key , value in overall_dict.items():\n",
    "        if value == slg:\n",
    "            names_list.append(key)\n",
    "    names_list.sort()\n",
    "    for name in names_list:\n",
    "        print(name)"
   ]
  },
  {
   "cell_type": "code",
   "execution_count": 5,
   "id": "998c2d85",
   "metadata": {},
   "outputs": [
    {
     "name": "stdout",
     "output_type": "stream",
     "text": [
      "5\n",
      "Amr 22 34 25\n",
      "Ali 25 35 25\n",
      "Ahmed 22 34 25\n",
      "Mohammed 22 30 25\n",
      "Medo 23 34 25\n",
      "Amr\n",
      "27.00\n"
     ]
    }
   ],
   "source": [
    "#10- problem name : Finding the percentage\n",
    "if __name__ == '__main__':\n",
    "    n = int(input())\n",
    "    student_marks = {}\n",
    "    x = 0\n",
    "    for _ in range(n):\n",
    "        name, *line = input().split() # take care this code means take the first string before space and store it in variable \n",
    "                                        # name and store the rest values in line for example \n",
    "                                        # input: Amr 22 35 40  ---> name = \"Amr\", line = [22,35,40] print (name, line) to ensure\n",
    "        scores = list(map(float, line))\n",
    "        student_marks[name] = scores\n",
    "    query_name = input()\n",
    "    for key , value in student_marks.items():\n",
    "        if query_name == key:\n",
    "            for val in value:\n",
    "                x+=float(val)\n",
    "    y = x/len(value)\n",
    "    print(f\"{y:.2f}\")"
   ]
  },
  {
   "cell_type": "code",
   "execution_count": null,
   "id": "9a334e7a",
   "metadata": {},
   "outputs": [],
   "source": []
  }
 ],
 "metadata": {
  "kernelspec": {
   "display_name": "Python 3 (ipykernel)",
   "language": "python",
   "name": "python3"
  },
  "language_info": {
   "codemirror_mode": {
    "name": "ipython",
    "version": 3
   },
   "file_extension": ".py",
   "mimetype": "text/x-python",
   "name": "python",
   "nbconvert_exporter": "python",
   "pygments_lexer": "ipython3",
   "version": "3.9.12"
  }
 },
 "nbformat": 4,
 "nbformat_minor": 5
}
